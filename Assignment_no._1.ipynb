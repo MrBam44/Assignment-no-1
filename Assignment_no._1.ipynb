{
 "cells": [
  {
   "cell_type": "markdown",
   "id": "965088ee",
   "metadata": {},
   "source": [
    "# Aasignment no 1"
   ]
  },
  {
   "cell_type": "markdown",
   "id": "10568243",
   "metadata": {},
   "source": [
    "# pr. no. 1 write a function that inputs a numberand prints the multiplication table of thath numbers"
   ]
  },
  {
   "cell_type": "code",
   "execution_count": 1,
   "id": "9bb32898",
   "metadata": {},
   "outputs": [
    {
     "name": "stdout",
     "output_type": "stream",
     "text": [
      "Enter your number: 4\n",
      "4x1=4\n",
      "4x2=8\n",
      "4x3=12\n",
      "4x4=16\n",
      "4x5=20\n",
      "4x6=24\n",
      "4x7=28\n",
      "4x8=32\n",
      "4x9=36\n",
      "4x10=40\n"
     ]
    }
   ],
   "source": [
    "input_num = int(input(\"Enter your number: \" ))\n",
    "for i in range (1, 11):\n",
    "    \n",
    "    \n",
    "    print(f\"{input_num}x{i}={input_num*i}\")"
   ]
  },
  {
   "cell_type": "markdown",
   "id": "f8b5c851",
   "metadata": {},
   "source": [
    "# pr. no. 2 write a programe twin prime less than 1000. if two consecutive odd number are both prime then they are knows as twin primes.  "
   ]
  },
  {
   "cell_type": "code",
   "execution_count": 2,
   "id": "019d1140",
   "metadata": {},
   "outputs": [
    {
     "name": "stdout",
     "output_type": "stream",
     "text": [
      "<function TwinPrime at 0x0000023ADEBD0040>\n",
      "3 and 5 \n",
      "5 and 7 \n",
      "11 and 13 \n",
      "17 and 19 \n",
      "29 and 31 \n",
      "41 and 43 \n",
      "59 and 61 \n",
      "71 and 73 \n",
      "101 and 103 \n",
      "107 and 109 \n",
      "137 and 139 \n",
      "149 and 151 \n",
      "179 and 181 \n",
      "191 and 193 \n",
      "197 and 199 \n",
      "227 and 229 \n",
      "239 and 241 \n",
      "269 and 271 \n",
      "281 and 283 \n",
      "311 and 313 \n",
      "347 and 349 \n",
      "419 and 421 \n",
      "431 and 433 \n",
      "461 and 463 \n",
      "521 and 523 \n",
      "569 and 571 \n",
      "599 and 601 \n",
      "617 and 619 \n",
      "641 and 643 \n",
      "659 and 661 \n",
      "809 and 811 \n",
      "821 and 823 \n",
      "827 and 829 \n",
      "857 and 859 \n",
      "881 and 883 \n"
     ]
    }
   ],
   "source": [
    "def checkPrime(max_num):\n",
    "    \"Checking number is prime or not\"\n",
    "    for num in range (2, max_num):\n",
    "        if max_num% num == 0:\n",
    "            return False\n",
    "    return True\n",
    "\n",
    "def TwinPrime(max_num):\n",
    "    \"Generating list of prime number\"\n",
    "    for first_num in range (2, max_num):\n",
    "        second_num = first_num + 2\n",
    "        if(checkPrime(first_num) and checkPrime(second_num)):\n",
    "            print(f\"{first_num} and {second_num} \")\n",
    "print(TwinPrime)\n",
    "TwinPrime(1000)"
   ]
  },
  {
   "cell_type": "markdown",
   "id": "9f284665",
   "metadata": {},
   "source": [
    "# pr. no. 3 write a programe to find out the prime factorial of number."
   ]
  },
  {
   "cell_type": "code",
   "execution_count": 3,
   "id": "656dd882",
   "metadata": {},
   "outputs": [
    {
     "name": "stdout",
     "output_type": "stream",
     "text": [
      "Enter your number : 45\n",
      "3 , 3 , 5 , None\n"
     ]
    }
   ],
   "source": [
    "def prime_factorial(num):\n",
    "    s = num\n",
    "    i = 2\n",
    "    while s>1:\n",
    "        if s%i==0:\n",
    "            print(i,end=\" , \")\n",
    "            s = int(s/i)\n",
    "            \n",
    "        else:\n",
    "            i=i+1\n",
    "num = int(input(\"Enter your number : \"))\n",
    "print(prime_factorial(num))"
   ]
  },
  {
   "cell_type": "markdown",
   "id": "f310d1ec",
   "metadata": {},
   "source": [
    "# problem no 4. Write a program to implement these formulae of permutations and combinations. Number of permutations of n objects taken r at a time: p(n,r) = n! / (n-r)!. Number of combinations of n objects taken r at a time is: c(n,r) = n! / (r!*(n-r)!) = p(n,r)/r!"
   ]
  },
  {
   "cell_type": "code",
   "execution_count": 4,
   "id": "b6b91760",
   "metadata": {},
   "outputs": [
    {
     "name": "stdout",
     "output_type": "stream",
     "text": [
      "<itertools.permutations object at 0x0000015BE6699040>\n",
      "(1, 2)\n",
      "(1, 3)\n",
      "(2, 1)\n",
      "(2, 3)\n",
      "(3, 1)\n",
      "(3, 2)\n",
      "***********\n",
      "(1, 2)\n",
      "(1, 3)\n",
      "(2, 3)\n"
     ]
    }
   ],
   "source": [
    "from itertools import permutations #permutation using itertools\n",
    "\n",
    "l = [1, 2, 3]\n",
    "\n",
    "perm = permutations(l, 2)\n",
    "\n",
    "print(perm)\n",
    "\n",
    "for i in perm:\n",
    "    \n",
    "    print(i)\n",
    "    \n",
    "print(\"***********\")\n",
    "\n",
    "from itertools import combinations #combinatopns using itertools\n",
    "\n",
    "comb = combinations(l, 2)\n",
    "\n",
    "for i in comb:\n",
    "    \n",
    "    print(i)\n",
    "    \n",
    "    "
   ]
  },
  {
   "cell_type": "code",
   "execution_count": 5,
   "id": "0055aad3",
   "metadata": {},
   "outputs": [
    {
     "name": "stdout",
     "output_type": "stream",
     "text": [
      "[['x', 'y'], ['x', 'z'], ['y', 'z']]\n"
     ]
    }
   ],
   "source": [
    "def len_comb (lis, n):\n",
    "    if n == 0:\n",
    "        return[[]]\n",
    "    l = []\n",
    "    for i in range (0, len(lis)):\n",
    "        s = lis[i]\n",
    "        newLis = lis[i+ 1:]\n",
    "        for t in len_comb(newLis, n-1):\n",
    "            l.append([s]+t)\n",
    "    return l\n",
    "if __name__ == \"__main__\":\n",
    "    arrang = \"xyz\"\n",
    "print(len_comb ([x for x in arrang], 2))"
   ]
  },
  {
   "cell_type": "markdown",
   "id": "cea1faa6",
   "metadata": {},
   "source": [
    "# problem no.5 conver decimal number in to binary number"
   ]
  },
  {
   "cell_type": "code",
   "execution_count": 6,
   "id": "307a2c22",
   "metadata": {},
   "outputs": [
    {
     "name": "stdout",
     "output_type": "stream",
     "text": [
      "011000"
     ]
    }
   ],
   "source": [
    "def DecimalToBinary(num):\n",
    "     \n",
    "    if num >= 1:\n",
    "        DecimalToBinary(num // 2)\n",
    "    print(num % 2, end = '')\n",
    " \n",
    "# Driver Code\n",
    "if __name__ == '__main__':\n",
    "     \n",
    "    # decimal value\n",
    "    dec_val = 24\n",
    "     \n",
    "    # Calling function\n",
    "    DecimalToBinary(dec_val)"
   ]
  },
  {
   "cell_type": "markdown",
   "id": "07e05f6e",
   "metadata": {},
   "source": [
    "# problem no 6 Write a function cubesum() that accepts an integer and returns the sum of the cubes of individual digits of that number Use this function to make functions PrintArmstrong() and isArmstrong() to print Armstrong numbers and to find whether is an Armstrong number."
   ]
  },
  {
   "cell_type": "code",
   "execution_count": 7,
   "id": "06877ef1",
   "metadata": {},
   "outputs": [
    {
     "name": "stdout",
     "output_type": "stream",
     "text": [
      "Enter Number To Check Armstong Number : 842\n"
     ]
    }
   ],
   "source": [
    "i = int(input(\"Enter Number To Check Armstong Number : \"))"
   ]
  },
  {
   "cell_type": "code",
   "execution_count": 8,
   "id": "714db564",
   "metadata": {},
   "outputs": [],
   "source": [
    "sum =0\n",
    "order = len(str(i))  \n",
    "ABD =  i                       #....copy the number for comparison  "
   ]
  },
  {
   "cell_type": "code",
   "execution_count": 9,
   "id": "7aa12d0c",
   "metadata": {},
   "outputs": [],
   "source": [
    "while(i>0):\n",
    "    digit= i%10\n",
    "    sum += digit ** order\n",
    "    i = i//10"
   ]
  },
  {
   "cell_type": "code",
   "execution_count": 10,
   "id": "b736ee26",
   "metadata": {},
   "outputs": [
    {
     "name": "stdout",
     "output_type": "stream",
     "text": [
      "842 is Not an Armstrong number\n"
     ]
    }
   ],
   "source": [
    "if (sum == ABD):\n",
    "    print(f\"{ABD} is an Armstong Number\")\n",
    "else:\n",
    "    print(f\"{ABD} is Not an Armstrong number\")"
   ]
  },
  {
   "cell_type": "markdown",
   "id": "8a272f8d",
   "metadata": {},
   "source": [
    "# Problem Number 7 Write a function prodDigits() that inputs a number and returns the product of digits of that number."
   ]
  },
  {
   "cell_type": "code",
   "execution_count": 1,
   "id": "1c4a5c41",
   "metadata": {},
   "outputs": [
    {
     "name": "stdout",
     "output_type": "stream",
     "text": [
      "Enter Number : 54\n",
      "Product of Number :  20\n"
     ]
    }
   ],
   "source": [
    "def prodDigit (num):\n",
    "    \n",
    "    i = num\n",
    "    prod = 1\n",
    "   \n",
    "    while (i>0):\n",
    "        prod = prod*(i%10)\n",
    "        i = i//10\n",
    "    return prod\n",
    "num = int(input(\"Enter Number : \"))\n",
    "print(\"Product of Number : \", prodDigit(num))"
   ]
  },
  {
   "cell_type": "markdown",
   "id": "0a120382",
   "metadata": {},
   "source": [
    "# Proble Number 8 If all digits of a number n are multiplied by each other repeating with the product, the one digit number obtained at last is called the multiplicative digital root of n. The number of times digits need to be multiplied to reach one digit is called the multiplicative persistance of n."
   ]
  },
  {
   "cell_type": "markdown",
   "id": "bcf9ede1",
   "metadata": {},
   "source": [
    "Example: 86 -> 48 -> 32 -> 6 (MDR 6, MPersistence 3)\n",
    "         \n",
    "         341 -> 12->2 (MDR 2, MPersistence 2)\n"
   ]
  },
  {
   "cell_type": "markdown",
   "id": "e101a621",
   "metadata": {},
   "source": [
    "# Using the function prodDigits() of previous exercise write functions MDR() and MPersistence() that input a number and return its multiplicative digital root and multiplicative persistence respectively"
   ]
  },
  {
   "cell_type": "code",
   "execution_count": 3,
   "id": "6dfae1d7",
   "metadata": {},
   "outputs": [
    {
     "name": "stdout",
     "output_type": "stream",
     "text": [
      "Enter a Number : 457\n",
      "For 457 MDR is 0 and M Persistance is 2\n"
     ]
    }
   ],
   "source": [
    "def Digi_Root(num1):\n",
    "    \n",
    "    j =str(num1)\n",
    "    c = 0\n",
    "    \n",
    "    while len(j)>1:\n",
    "        \n",
    "        j = str(prodDigit(int(j)))\n",
    "        \n",
    "        c +=1\n",
    "        \n",
    "    return int(j), c\n",
    "\n",
    "num1 = int(input(\"Enter a Number : \"))\n",
    "\n",
    "MRT, MPER = Digi_Root(num1)\n",
    "\n",
    "print(f\"For {num1} MDR is {MRT} and M Persistance is {MPER}\")"
   ]
  },
  {
   "cell_type": "markdown",
   "id": "de315f55",
   "metadata": {},
   "source": [
    "# Problem Number 9 Write a function sumPdivisors() that finds the sum of proper divisors of a number. Proper divisors of a number are those numbers by which the number is divisible, except the number itself. For example proper divisors of 36 are 1, 2, 3, 4, 6, 9, 18"
   ]
  },
  {
   "cell_type": "code",
   "execution_count": 6,
   "id": "8fc766da",
   "metadata": {},
   "outputs": [
    {
     "name": "stdout",
     "output_type": "stream",
     "text": [
      "Enter Number : 425\n"
     ]
    },
    {
     "data": {
      "text/plain": [
       "133"
      ]
     },
     "execution_count": 6,
     "metadata": {},
     "output_type": "execute_result"
    }
   ],
   "source": [
    "def sumPdivisors(num):\n",
    "    \n",
    "    div = []\n",
    "    \n",
    "    for i in range (1, num):\n",
    "        \n",
    "        if num % i == 0:\n",
    "            \n",
    "            div.append(i)\n",
    "            \n",
    "    return sum(div)\n",
    "\n",
    "num = int(input(\"Enter Number : \"))\n",
    "\n",
    "sumPdivisors(num)"
   ]
  },
  {
   "cell_type": "markdown",
   "id": "001034ff",
   "metadata": {},
   "source": [
    "# Problem Number 10. A number is called perfect if the sum of proper divisors of that number is equal to the number. For example 28 is perfect number, since 1+2+4+7+14=28. Write a program to print all the perfect numbers in a given range"
   ]
  },
  {
   "cell_type": "code",
   "execution_count": 14,
   "id": "5ef2209c",
   "metadata": {},
   "outputs": [
    {
     "name": "stdout",
     "output_type": "stream",
     "text": [
      "0\n",
      "6\n",
      "28\n"
     ]
    }
   ],
   "source": [
    "def perfDiv(num):\n",
    "    \n",
    "    return num == sumPdivisors(num)\n",
    "\n",
    "def perNum(lower, upper):\n",
    "    \n",
    "    for i in range (lower, upper):\n",
    "        \n",
    "        if perfDiv(i):\n",
    "            \n",
    "            print(i)\n",
    "            \n",
    "perNum(0, 400)"
   ]
  },
  {
   "cell_type": "markdown",
   "id": "9bd48417",
   "metadata": {},
   "source": [
    "# problem no. 11 Two different numbers are called amicable numbers if the sum of the proper divisors of each is equal to the other number. For example 220 and 284 are amicable numbers."
   ]
  },
  {
   "cell_type": "code",
   "execution_count": 15,
   "id": "18efd7f4",
   "metadata": {},
   "outputs": [
    {
     "name": "stdout",
     "output_type": "stream",
     "text": [
      "Enter first number : 284\n",
      "Enter second number : 124\n",
      "284  and  124 Are Not Amicable Number\n"
     ]
    }
   ],
   "source": [
    "A = int(input(\"Enter first number : \"))\n",
    "\n",
    "B = int(input(\"Enter second number : \"))\n",
    "\n",
    "sum_1 = 0\n",
    "sum_2 = 0\n",
    "\n",
    "for i in range (1, int(A/2) + 1):\n",
    "    if (A%i ==0):\n",
    "        sum_1 = sum_1 + i\n",
    "        \n",
    "for i in range (1, int(B/2)+1):\n",
    "    if (B%i==0):\n",
    "        sum_2 = sum_2 + i\n",
    "        \n",
    "if (sum_1 ==B and sum_2==A ):\n",
    "    print(A, \"and\", B, \"Are Amicable Number\")\n",
    "    \n",
    "else:\n",
    "    print(A, \" and \", B, \"Are Not Amicable Number\")"
   ]
  },
  {
   "cell_type": "markdown",
   "id": "797d4000",
   "metadata": {},
   "source": [
    "# Problem Number 12. Write a program which can filter odd numbers in a list by using filter function"
   ]
  },
  {
   "cell_type": "code",
   "execution_count": 1,
   "id": "7f629db4",
   "metadata": {},
   "outputs": [
    {
     "data": {
      "text/plain": [
       "[25, 87]"
      ]
     },
     "execution_count": 1,
     "metadata": {},
     "output_type": "execute_result"
    }
   ],
   "source": [
    "def Filter_odd(lst):\n",
    "    \n",
    "    return list(filter(lambda num: (num%2 != 0), lst))\n",
    "Filter_odd([0, 25, 4, 2, 87, 994])"
   ]
  },
  {
   "cell_type": "markdown",
   "id": "1944b1d5",
   "metadata": {},
   "source": [
    "# Problem Num 13. Write a program which can map() to make a list whose elements are cube of elements in a given list"
   ]
  },
  {
   "cell_type": "code",
   "execution_count": 2,
   "id": "c3e8292f",
   "metadata": {},
   "outputs": [
    {
     "data": {
      "text/plain": [
       "[8, 343, 64, 216, 512, 27]"
      ]
     },
     "execution_count": 2,
     "metadata": {},
     "output_type": "execute_result"
    }
   ],
   "source": [
    "def cube(lst):\n",
    "    \n",
    "    return list(map(lambda x : x**3, lst))\n",
    "\n",
    "cube([2, 7, 4, 6, 8, 3])\n"
   ]
  },
  {
   "cell_type": "markdown",
   "id": "614a47a3",
   "metadata": {},
   "source": [
    "# Problem Num 14. Write a program which can map() and filter() to make a list whose elements are cube of even number in a given list"
   ]
  },
  {
   "cell_type": "code",
   "execution_count": 9,
   "id": "e817be2a",
   "metadata": {},
   "outputs": [
    {
     "data": {
      "text/plain": [
       "[0, 8, 5832, 39304]"
      ]
     },
     "execution_count": 9,
     "metadata": {},
     "output_type": "execute_result"
    }
   ],
   "source": [
    "def evenCube(lst):\n",
    "    \n",
    "    \n",
    "    return cube (list(filter(lambda number: (number%2)== 0, lst)))\n",
    "\n",
    "\n",
    "evenCube([0, 5, 2, 15, 18, 34])"
   ]
  }
 ],
 "metadata": {
  "kernelspec": {
   "display_name": "Python 3 (ipykernel)",
   "language": "python",
   "name": "python3"
  },
  "language_info": {
   "codemirror_mode": {
    "name": "ipython",
    "version": 3
   },
   "file_extension": ".py",
   "mimetype": "text/x-python",
   "name": "python",
   "nbconvert_exporter": "python",
   "pygments_lexer": "ipython3",
   "version": "3.9.7"
  },
  "varInspector": {
   "cols": {
    "lenName": 16,
    "lenType": 16,
    "lenVar": 40
   },
   "kernels_config": {
    "python": {
     "delete_cmd_postfix": "",
     "delete_cmd_prefix": "del ",
     "library": "var_list.py",
     "varRefreshCmd": "print(var_dic_list())"
    },
    "r": {
     "delete_cmd_postfix": ") ",
     "delete_cmd_prefix": "rm(",
     "library": "var_list.r",
     "varRefreshCmd": "cat(var_dic_list()) "
    }
   },
   "types_to_exclude": [
    "module",
    "function",
    "builtin_function_or_method",
    "instance",
    "_Feature"
   ],
   "window_display": false
  }
 },
 "nbformat": 4,
 "nbformat_minor": 5
}
